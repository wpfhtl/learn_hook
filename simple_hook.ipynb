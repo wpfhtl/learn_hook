{
 "cells": [
  {
   "cell_type": "code",
   "execution_count": null,
   "metadata": {},
   "outputs": [],
   "source": [
    "import torch\n",
    "\n",
    "x = torch.Tensor([0, 1, 2, 3]).requires_grad_()\n",
    "y = torch.Tensor([4, 5, 6, 7]).requires_grad_()\n",
    "w = torch.Tensor([1, 2, 3, 4]).requires_grad_()\n",
    "z = x+y\n",
    "\n",
    "# ===================\n",
    "def hook_fn(grad):\n",
    "    print(grad)\n",
    "\n",
    "z.register_hook(hook_fn)\n",
    "# ===================\n",
    "\n",
    "o = w.matmul(z)\n",
    "\n",
    "print('=====Start backprop=====')\n",
    "o.backward()\n",
    "print('=====End backprop=====')\n",
    "\n",
    "print('x.grad:', x.grad)\n",
    "print('y.grad:', y.grad)\n",
    "print('w.grad:', w.grad)\n",
    "print('z.grad:', z.grad)"
   ]
  },
  {
   "cell_type": "code",
   "execution_count": null,
   "metadata": {},
   "outputs": [],
   "source": [
    "import torch\n",
    "\n",
    "x = torch.Tensor([0, 1, 2, 3]).requires_grad_()\n",
    "y = torch.Tensor([4, 5, 6, 7]).requires_grad_()\n",
    "w = torch.Tensor([1, 2, 3, 4]).requires_grad_()\n",
    "z = x + y\n",
    "\n",
    "\n",
    "# ===================\n",
    "def hook_fn(grad):\n",
    "    g = 2 * grad\n",
    "    print(g)\n",
    "    return g\n",
    "\n",
    "\n",
    "z.register_hook(hook_fn)\n",
    "# ===================\n",
    "\n",
    "o = w.matmul(z)\n",
    "\n",
    "print('=====Start backprop=====')\n",
    "o.backward()\n",
    "print('=====End backprop=====')\n",
    "\n",
    "print('x.grad:', x.grad)\n",
    "print('y.grad:', y.grad)\n",
    "print('w.grad:', w.grad)\n",
    "print('z.grad:', z.grad)"
   ]
  },
  {
   "cell_type": "code",
   "execution_count": null,
   "metadata": {},
   "outputs": [],
   "source": [
    "import torch\n",
    "\n",
    "x = torch.Tensor([0, 1, 2, 3]).requires_grad_()\n",
    "y = torch.Tensor([4, 5, 6, 7]).requires_grad_()\n",
    "w = torch.Tensor([1, 2, 3, 4]).requires_grad_()\n",
    "z = x + y\n",
    "\n",
    "# ===================\n",
    "z.register_hook(lambda x: 2*x)\n",
    "z.register_hook(lambda x: print(x))\n",
    "# ===================\n",
    "\n",
    "o = w.matmul(z)\n",
    "\n",
    "print('=====Start backprop=====')\n",
    "o.backward()\n",
    "print('=====End backprop=====')\n",
    "\n",
    "print('x.grad:', x.grad)\n",
    "print('y.grad:', y.grad)\n",
    "print('w.grad:', w.grad)\n",
    "print('z.grad:', z.grad)"
   ]
  },
  {
   "cell_type": "code",
   "execution_count": null,
   "metadata": {},
   "outputs": [],
   "source": []
  }
 ],
 "metadata": {
  "language_info": {
   "codemirror_mode": {
    "name": "ipython",
    "version": 3
   },
   "file_extension": ".py",
   "mimetype": "text/x-python",
   "name": "python",
   "nbconvert_exporter": "python",
   "pygments_lexer": "ipython3",
   "version": "3.7.5-final"
  },
  "orig_nbformat": 2,
  "kernelspec": {
   "name": "python37564bitpysotcondae45022cbaac7468791dca7db4e410af3",
   "display_name": "Python 3.7.5 64-bit ('pysot': conda)"
  }
 },
 "nbformat": 4,
 "nbformat_minor": 2
}