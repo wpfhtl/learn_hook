{
 "cells": [
  {
   "cell_type": "code",
   "execution_count": null,
   "metadata": {},
   "outputs": [],
   "source": [
    "import numpy as np \n",
    "import matplotlib.pyplot as plt \n",
    "import cv2\n",
    "\n",
    "img = cv2.imread('cat.jpg')\n",
    "img = cv2.cvtColor(img,cv2.COLOR_BGR2RGB)\n",
    "\n",
    "h, w = img.shape[0], img.shape[1]\n",
    "fig1 = plt.figure('original image')\n",
    "plt.imshow(img)\n",
    "plt.axis('off')\n",
    "plt.title('Original image')\n",
    "print( '\\t\\t\\t original image:\\n', '\\t\\t\\t',img.shape ) "
   ]
  },
  {
   "cell_type": "code",
   "execution_count": null,
   "metadata": {},
   "outputs": [],
   "source": []
  },
  {
   "cell_type": "code",
   "execution_count": null,
   "metadata": {},
   "outputs": [],
   "source": [
    "def divide_method1(img,m,n):#分割成m行n列\n",
    "    h, w = img.shape[0],img.shape[1]\n",
    "    a = np.zeros([m-1, n-1, int(h*1.0/(m-1)+0.5), int(w*1.0/(n-1)+0.5),3], np.uint8)\n",
    "    gx, gy = np.meshgrid(np.linspace(0, w, n),np.linspace(0, h, m))\n",
    "    # a[i,j,...]=img[gy[i][j]:gy[i+1][j+1], gx[i][j]:gx[i+1][j+1],:]\n",
    "    gx=np.round(gx).astype(np.int)\n",
    "    gy=np.round(gy).astype(np.int)\n",
    "\n",
    "    divide_image = np.zeros([m-1, n-1, int(h*1.0/(m-1)+0.5), int(w*1.0/(n-1)+0.5),3], np.uint8)#这是一个五维的张量，前面两维表示分块后图像的位置（第m行，第n列），后面三维表示每个分块后的图像信息\n",
    "    for i in range(m-1):\n",
    "        for j in range(n-1):      \n",
    "            divide_image[i,j,0:gy[i+1][j+1]-gy[i][j], 0:gx[i+1][j+1]-gx[i][j],:]= img[\n",
    "                gy[i][j]:gy[i+1][j+1], gx[i][j]:gx[i+1][j+1],:]#这样写比a[i,j,...]=要麻烦，但是可以避免网格分块的时候，有些图像块的比其他图像块大一点或者小一点的情况引起程序出错\n",
    "    return divide_image"
   ]
  },
  {
   "cell_type": "code",
   "execution_count": null,
   "metadata": {},
   "outputs": [],
   "source": [
    "def divide_method2(img,m,n):#分割成m行n列\n",
    "    h, w = img.shape[0],img.shape[1]\n",
    "    grid_h=int(h*1.0/(m-1)+0.5)#每个网格的高\n",
    "    grid_w=int(w*1.0/(n-1)+0.5)#每个网格的宽\n",
    "    \n",
    "    #满足整除关系时的高、宽\n",
    "    h=grid_h*(m-1)\n",
    "    w=grid_w*(n-1)\n",
    "    \n",
    "    #图像缩放\n",
    "    img_re=cv2.resize(img,(w,h),cv2.INTER_LINEAR)# 也可以用img_re=skimage.transform.resize(img, (h,w)).astype(np.uint8)\n",
    "    #plt.imshow(img_re)\n",
    "    gx, gy = np.meshgrid(np.linspace(0, w, n),np.linspace(0, h, m))\n",
    "    gx=gx.astype(np.int)\n",
    "    gy=gy.astype(np.int)\n",
    "\n",
    "    divide_image = np.zeros([m-1, n-1, grid_h, grid_w,3], np.uint8)#这是一个五维的张量，前面两维表示分块后图像的位置（第m行，第n列），后面三维表示每个分块后的图像信息\n",
    "    \n",
    "    for i in range(m-1):\n",
    "        for j in range(n-1):      \n",
    "            divide_image[i,j,...]=img_re[\n",
    "            gy[i][j]:gy[i+1][j+1], gx[i][j]:gx[i+1][j+1],:]\n",
    "    return divide_image"
   ]
  },
  {
   "cell_type": "code",
   "execution_count": null,
   "metadata": {},
   "outputs": [],
   "source": [
    "def create_image_block(self, image,row_number,col_number):\n",
    "    block_row = np.array_split(image, row_number, axis = 0)#垂直方向切割，得到很多横向长条\n",
    "    print(image.shape)\n",
    "    img_blocks = []\n",
    "    for block in block_row:\n",
    "        block_col = np.array_split(block, col_number, axis = 1)#水平方向切割，得到很多图像块\n",
    "        img_blocks += [block_col]\n",
    "        \n",
    "    #print(img_blocks[-1][-1].shape)\n",
    "    cv2.imshow(\"block image\",img_blocks[2][1])#第3行第2列图像块"
   ]
  },
  {
   "cell_type": "code",
   "execution_count": null,
   "metadata": {},
   "outputs": [],
   "source": [
    "def display_blocks(divide_image):#    \n",
    "    m,n=divide_image.shape[0],divide_image.shape[1]\n",
    "    for i in range(m):\n",
    "        for j in range(n):\n",
    "            plt.subplot(m,n,i*n+j+1)\n",
    "            plt.imshow(divide_image[i,j,:])\n",
    "            plt.axis('off')\n",
    "            plt.title('block:'+str(i*n+j+1))"
   ]
  },
  {
   "cell_type": "code",
   "execution_count": null,
   "metadata": {},
   "outputs": [],
   "source": [
    "m=3\n",
    "n=4\n",
    "divide_image1=divide_method1(img,m+1,n+1)#该函数中m+1和n+1表示网格点个数，m和n分别表示分块的块数\n",
    "fig2 = plt.figure('round for split')\n",
    "display_blocks(divide_image1)"
   ]
  },
  {
   "cell_type": "code",
   "execution_count": null,
   "metadata": {},
   "outputs": [],
   "source": [
    "divide_image2=divide_method2(img,m+1,n+1)#该函数中m+1和n+1表示网格点个数，m和n分别表示分块的块数\n",
    "fig3 = plt.figure('scale for split')\n",
    "display_blocks(divide_image2)"
   ]
  },
  {
   "cell_type": "code",
   "execution_count": null,
   "metadata": {},
   "outputs": [],
   "source": [
    "def image_concat(divide_image):\n",
    "    m,n,grid_h, grid_w=[divide_image.shape[0],divide_image.shape[1],#每行，每列的图像块数\n",
    "                       divide_image.shape[2],divide_image.shape[3]]#每个图像块的尺寸\n",
    "\n",
    "    restore_image = np.zeros([m*grid_h, n*grid_w, 3], np.uint8)\n",
    "    restore_image[0:grid_h,0:]\n",
    "    for i in range(m):\n",
    "        for j in range(n):\n",
    "            restore_image[i*grid_h:(i+1)*grid_h,j*grid_w:(j+1)*grid_w]=divide_image[i,j,:]\n",
    "    return restore_image"
   ]
  },
  {
   "cell_type": "code",
   "execution_count": null,
   "metadata": {},
   "outputs": [],
   "source": [
    "fig4 = plt.figure('restore')\n",
    "restore_image1=image_concat(divide_image1)#四舍五入法分块还原\n",
    "restore_image2=image_concat(divide_image2)#图像缩放法分块还原\n",
    "plt.subplot(1,2,1)\n",
    "plt.imshow(restore_image1)\n",
    "plt.axis('off')\n",
    "plt.title('Rounding')\n",
    "plt.subplot(1,2,2)\n",
    "plt.imshow(restore_image2)\n",
    "plt.axis('off')\n",
    "plt.title('Scaling')\n",
    "print('\\t\\t\\t scale after restore')\n",
    "print('\\t round：', restore_image1.shape,'\\t'' scale：', restore_image2.shape)\n",
    "plt.show()"
   ]
  }
 ],
 "metadata": {
  "language_info": {
   "codemirror_mode": {
    "name": "ipython",
    "version": 3
   },
   "file_extension": ".py",
   "mimetype": "text/x-python",
   "name": "python",
   "nbconvert_exporter": "python",
   "pygments_lexer": "ipython3",
   "version": "2.7.12-final"
  },
  "orig_nbformat": 2,
  "kernelspec": {
   "name": "python271264bita553bcea6c77496891e3a76955454156",
   "display_name": "Python 2.7.12 64-bit"
  }
 },
 "nbformat": 4,
 "nbformat_minor": 2
}