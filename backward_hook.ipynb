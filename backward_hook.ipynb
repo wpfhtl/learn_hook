{
 "cells": [
  {
   "cell_type": "code",
   "execution_count": 1,
   "metadata": {},
   "outputs": [],
   "source": [
    "import torch\n",
    "from torch import nn\n",
    "\n",
    "\n",
    "class Model(nn.Module):\n",
    "    def __init__(self):\n",
    "        super(Model, self).__init__()\n",
    "        self.fc1 = nn.Linear(3, 4)\n",
    "        self.relu1 = nn.ReLU()\n",
    "        self.fc2 = nn.Linear(4, 1)\n",
    "        self.initialize()\n",
    "\n",
    "    def initialize(self):\n",
    "        with torch.no_grad():\n",
    "            self.fc1.weight = torch.nn.Parameter(\n",
    "                torch.Tensor([[1., 2., 3.],\n",
    "                              [-4., -5., -6.],\n",
    "                              [7., 8., 9.],\n",
    "                              [-10., -11., -12.]]))\n",
    "\n",
    "            self.fc1.bias = torch.nn.Parameter(torch.Tensor([1.0, 2.0, 3.0, 4.0]))\n",
    "            self.fc2.weight = torch.nn.Parameter(torch.Tensor([[1.0, 2.0, 3.0, 4.0]]))\n",
    "            self.fc2.bias = torch.nn.Parameter(torch.Tensor([1.0]))\n",
    "\n",
    "    def forward(self, x):\n",
    "        o = self.fc1(x)\n",
    "        o = self.relu1(o)\n",
    "        o = self.fc2(o)\n",
    "        return o"
   ]
  },
  {
   "cell_type": "code",
   "execution_count": 2,
   "metadata": {},
   "outputs": [],
   "source": [
    "\n",
    "# 全局变量，用于存储中间层的 feature\n",
    "total_grad_out = []\n",
    "total_grad_in = []\n",
    "\n",
    "def hook_fn_backward(module, grad_input, grad_output):\n",
    "    print(module) # 为了区分模块\n",
    "    # 为了符合反向传播的顺序，我们先打印 grad_output\n",
    "    print('grad_output', grad_output) \n",
    "    # 再打印 grad_input\n",
    "    print('grad_input', grad_input)\n",
    "    # 保存到全局变量\n",
    "    total_grad_in.append(grad_input)\n",
    "    total_grad_out.append(grad_output)"
   ]
  },
  {
   "cell_type": "code",
   "execution_count": 3,
   "metadata": {},
   "outputs": [
    {
     "output_type": "stream",
     "name": "stdout",
     "text": "Linear(in_features=4, out_features=1, bias=True)\ngrad_output (tensor([[1.]]),)\ngrad_input (tensor([[1.]]), tensor([[1., 2., 3., 4.]]), tensor([[ 7.],\n        [ 0.],\n        [27.],\n        [ 0.]]))\nReLU()\ngrad_output (tensor([[1., 2., 3., 4.]]),)\ngrad_input (tensor([[1., 0., 3., 0.]]),)\nLinear(in_features=3, out_features=4, bias=True)\ngrad_output (tensor([[1., 0., 3., 0.]]),)\ngrad_input (tensor([[1., 0., 3., 0.]]), tensor([[22., 26., 30.]]), tensor([[1., 0., 3., 0.],\n        [1., 0., 3., 0.],\n        [1., 0., 3., 0.]]))\n==========Saved inputs and outputs==========\ngrad output:  (tensor([[1.]]),)\ngrad input:  (tensor([[1.]]), tensor([[1., 2., 3., 4.]]), tensor([[ 7.],\n        [ 0.],\n        [27.],\n        [ 0.]]))\ngrad output:  (tensor([[1., 2., 3., 4.]]),)\ngrad input:  (tensor([[1., 0., 3., 0.]]),)\ngrad output:  (tensor([[1., 0., 3., 0.]]),)\ngrad input:  (tensor([[1., 0., 3., 0.]]), tensor([[22., 26., 30.]]), tensor([[1., 0., 3., 0.],\n        [1., 0., 3., 0.],\n        [1., 0., 3., 0.]]))\n"
    }
   ],
   "source": [
    "model = Model()\n",
    "\n",
    "modules = model.named_children()\n",
    "for name, module in modules:\n",
    "    module.register_backward_hook(hook_fn_backward)\n",
    "\n",
    "# 这里的 requires_grad 很重要，如果不加，backward hook\n",
    "# 执行到第一层，对 x 的导数将为 None，某英文博客作者这里疏忽了\n",
    "# 此外再强调一遍 x 的维度，一定不能写成 torch.Tensor([1.0, 1.0, 1.0]).requires_grad_()\n",
    "# 否则 backward hook 会出问题。\n",
    "x = torch.Tensor([[1.0, 1.0, 1.0]]).requires_grad_()\n",
    "o = model(x)\n",
    "o.backward()\n",
    "\n",
    "print('==========Saved inputs and outputs==========')\n",
    "for idx in range(len(total_grad_in)):\n",
    "    print('grad output: ', total_grad_out[idx])\n",
    "    print('grad input: ', total_grad_in[idx])"
   ]
  },
  {
   "cell_type": "code",
   "execution_count": null,
   "metadata": {},
   "outputs": [],
   "source": []
  }
 ],
 "metadata": {
  "language_info": {
   "codemirror_mode": {
    "name": "ipython",
    "version": 3
   },
   "file_extension": ".py",
   "mimetype": "text/x-python",
   "name": "python",
   "nbconvert_exporter": "python",
   "pygments_lexer": "ipython3",
   "version": "3.7.5-final"
  },
  "orig_nbformat": 2,
  "kernelspec": {
   "name": "python37564bitpysotcondae45022cbaac7468791dca7db4e410af3",
   "display_name": "Python 3.7.5 64-bit ('pysot': conda)"
  }
 },
 "nbformat": 4,
 "nbformat_minor": 2
}