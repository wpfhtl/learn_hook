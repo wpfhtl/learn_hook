{
 "cells": [
  {
   "cell_type": "code",
   "execution_count": 1,
   "metadata": {},
   "outputs": [],
   "source": [
    "import torch\n",
    "from torch import nn\n",
    "\n",
    "# 首先我们定义一个模型\n",
    "class Model(nn.Module):\n",
    "    def __init__(self):\n",
    "        super(Model, self).__init__()\n",
    "        self.fc1 = nn.Linear(3, 4)\n",
    "        self.relu1 = nn.ReLU()\n",
    "        self.fc2 = nn.Linear(4, 1)\n",
    "        self.initialize()\n",
    "    \n",
    "    # 为了方便验证，我们将指定特殊的weight和bias\n",
    "    def initialize(self):\n",
    "        with torch.no_grad():\n",
    "            self.fc1.weight = torch.nn.Parameter(\n",
    "                torch.Tensor([[1., 2., 3.],\n",
    "                              [-4., -5., -6.],\n",
    "                              [7., 8., 9.],\n",
    "                              [-10., -11., -12.]]))\n",
    "\n",
    "            self.fc1.bias = torch.nn.Parameter(torch.Tensor([1.0, 2.0, 3.0, 4.0]))\n",
    "            self.fc2.weight = torch.nn.Parameter(torch.Tensor([[1.0, 2.0, 3.0, 4.0]]))\n",
    "            self.fc2.bias = torch.nn.Parameter(torch.Tensor([1.0]))\n",
    "\n",
    "    def forward(self, x):\n",
    "        o = self.fc1(x)\n",
    "        o = self.relu1(o)\n",
    "        o = self.fc2(o)\n",
    "        return o\n"
   ]
  },
  {
   "cell_type": "code",
   "execution_count": 3,
   "metadata": {},
   "outputs": [],
   "source": [
    "\n",
    "# 全局变量，用于存储中间层的 feature\n",
    "total_feat_out = []\n",
    "total_feat_in = []\n",
    "\n",
    "# 定义 forward hook function\n",
    "def hook_fn_forward(module, input, output):\n",
    "    print(module) # 用于区分模块\n",
    "    print('input', input) # 首先打印出来\n",
    "    print('output', output)\n",
    "    total_feat_out.append(output) # 然后分别存入全局 list 中\n",
    "    total_feat_in.append(input)\n"
   ]
  },
  {
   "cell_type": "code",
   "execution_count": 4,
   "metadata": {},
   "outputs": [
    {
     "output_type": "stream",
     "name": "stdout",
     "text": "Linear(in_features=3, out_features=4, bias=True)\ninput (tensor([[1., 1., 1.]], requires_grad=True),)\noutput tensor([[  7., -13.,  27., -29.]], grad_fn=<ThAddmmBackward>)\nReLU()\ninput (tensor([[  7., -13.,  27., -29.]], grad_fn=<ThAddmmBackward>),)\noutput tensor([[ 7.,  0., 27.,  0.]], grad_fn=<ThresholdBackward0>)\nLinear(in_features=4, out_features=1, bias=True)\ninput (tensor([[ 7.,  0., 27.,  0.]], grad_fn=<ThresholdBackward0>),)\noutput tensor([[89.]], grad_fn=<ThAddmmBackward>)\n==========Saved inputs and outputs==========\ninput:  (tensor([[1., 1., 1.]], requires_grad=True),)\noutput:  tensor([[  7., -13.,  27., -29.]], grad_fn=<ThAddmmBackward>)\ninput:  (tensor([[  7., -13.,  27., -29.]], grad_fn=<ThAddmmBackward>),)\noutput:  tensor([[ 7.,  0., 27.,  0.]], grad_fn=<ThresholdBackward0>)\ninput:  (tensor([[ 7.,  0., 27.,  0.]], grad_fn=<ThresholdBackward0>),)\noutput:  tensor([[89.]], grad_fn=<ThAddmmBackward>)\n"
    }
   ],
   "source": [
    "\n",
    "model = Model()\n",
    "\n",
    "modules = model.named_children() # \n",
    "for name, module in modules:\n",
    "    module.register_forward_hook(hook_fn_forward)\n",
    "\n",
    "# 注意下面代码中 x 的维度，对于linear module，输入一定是大于等于二维的\n",
    "# （第一维是 batch size）。在 forward hook 中看不出来，但是 backward hook 中，\n",
    "# 得到的梯度完全不对。\n",
    "# 有一篇 hook 的教程就是这里出了错，作者还强行解释\n",
    "\n",
    "x = torch.Tensor([[1.0, 1.0, 1.0]]).requires_grad_() \n",
    "o = model(x)\n",
    "o.backward()\n",
    "\n",
    "print('==========Saved inputs and outputs==========')\n",
    "for idx in range(len(total_feat_in)):\n",
    "    print('input: ', total_feat_in[idx])\n",
    "    print('output: ', total_feat_out[idx])"
   ]
  },
  {
   "cell_type": "code",
   "execution_count": null,
   "metadata": {},
   "outputs": [],
   "source": []
  }
 ],
 "metadata": {
  "language_info": {
   "codemirror_mode": {
    "name": "ipython",
    "version": 3
   },
   "file_extension": ".py",
   "mimetype": "text/x-python",
   "name": "python",
   "nbconvert_exporter": "python",
   "pygments_lexer": "ipython3",
   "version": "3.7.5-final"
  },
  "orig_nbformat": 2,
  "kernelspec": {
   "name": "python37564bitpysotcondae45022cbaac7468791dca7db4e410af3",
   "display_name": "Python 3.7.5 64-bit ('pysot': conda)"
  }
 },
 "nbformat": 4,
 "nbformat_minor": 2
}